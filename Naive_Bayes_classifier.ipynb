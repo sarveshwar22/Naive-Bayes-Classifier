{
 "cells": [
  {
   "cell_type": "code",
   "execution_count": 1,
   "metadata": {},
   "outputs": [],
   "source": [
    "import pandas as pd\n",
    "import numpy as np"
   ]
  },
  {
   "cell_type": "code",
   "execution_count": 2,
   "metadata": {},
   "outputs": [],
   "source": [
    "df=pd.DataFrame()"
   ]
  },
  {
   "cell_type": "code",
   "execution_count": 3,
   "metadata": {},
   "outputs": [],
   "source": [
    "np.random.seed(0)"
   ]
  },
  {
   "cell_type": "code",
   "execution_count": 4,
   "metadata": {},
   "outputs": [],
   "source": [
    "city=np.random.choice(3,20)\n",
    "df['city']=city\n",
    "gender=np.random.choice(2,20)\n",
    "df['gender']=gender\n",
    "income=np.random.random(20)*100\n",
    "\n",
    "df['income']=income"
   ]
  },
  {
   "cell_type": "code",
   "execution_count": 5,
   "metadata": {},
   "outputs": [
    {
     "output_type": "execute_result",
     "data": {
      "text/plain": "    city  gender     income  disease\n0      0       0  72.063265        0\n1      1       1  58.201979        1\n2      0       0  53.737323        0\n3      1       1  75.861562        1\n4      1       0  10.590761        1\n5      2       1  47.360042        1\n6      0       1  18.633234        0\n7      2       0  73.691818        0\n8      0       1  21.655035        1\n9      0       1  13.521817        0\n10     0       0  32.414101        1\n11     2       0  14.967487        1\n12     1       1  22.232139        1\n13     2       0  38.648898        0\n14     2       1  90.259848        0\n15     0       1  44.994999        1\n16     1       1  61.306346        0\n17     1       1  90.234858        1\n18     1       1   9.928035        0\n19     1       0  96.980907        1",
      "text/html": "<div>\n<style scoped>\n    .dataframe tbody tr th:only-of-type {\n        vertical-align: middle;\n    }\n\n    .dataframe tbody tr th {\n        vertical-align: top;\n    }\n\n    .dataframe thead th {\n        text-align: right;\n    }\n</style>\n<table border=\"1\" class=\"dataframe\">\n  <thead>\n    <tr style=\"text-align: right;\">\n      <th></th>\n      <th>city</th>\n      <th>gender</th>\n      <th>income</th>\n      <th>disease</th>\n    </tr>\n  </thead>\n  <tbody>\n    <tr>\n      <th>0</th>\n      <td>0</td>\n      <td>0</td>\n      <td>72.063265</td>\n      <td>0</td>\n    </tr>\n    <tr>\n      <th>1</th>\n      <td>1</td>\n      <td>1</td>\n      <td>58.201979</td>\n      <td>1</td>\n    </tr>\n    <tr>\n      <th>2</th>\n      <td>0</td>\n      <td>0</td>\n      <td>53.737323</td>\n      <td>0</td>\n    </tr>\n    <tr>\n      <th>3</th>\n      <td>1</td>\n      <td>1</td>\n      <td>75.861562</td>\n      <td>1</td>\n    </tr>\n    <tr>\n      <th>4</th>\n      <td>1</td>\n      <td>0</td>\n      <td>10.590761</td>\n      <td>1</td>\n    </tr>\n    <tr>\n      <th>5</th>\n      <td>2</td>\n      <td>1</td>\n      <td>47.360042</td>\n      <td>1</td>\n    </tr>\n    <tr>\n      <th>6</th>\n      <td>0</td>\n      <td>1</td>\n      <td>18.633234</td>\n      <td>0</td>\n    </tr>\n    <tr>\n      <th>7</th>\n      <td>2</td>\n      <td>0</td>\n      <td>73.691818</td>\n      <td>0</td>\n    </tr>\n    <tr>\n      <th>8</th>\n      <td>0</td>\n      <td>1</td>\n      <td>21.655035</td>\n      <td>1</td>\n    </tr>\n    <tr>\n      <th>9</th>\n      <td>0</td>\n      <td>1</td>\n      <td>13.521817</td>\n      <td>0</td>\n    </tr>\n    <tr>\n      <th>10</th>\n      <td>0</td>\n      <td>0</td>\n      <td>32.414101</td>\n      <td>1</td>\n    </tr>\n    <tr>\n      <th>11</th>\n      <td>2</td>\n      <td>0</td>\n      <td>14.967487</td>\n      <td>1</td>\n    </tr>\n    <tr>\n      <th>12</th>\n      <td>1</td>\n      <td>1</td>\n      <td>22.232139</td>\n      <td>1</td>\n    </tr>\n    <tr>\n      <th>13</th>\n      <td>2</td>\n      <td>0</td>\n      <td>38.648898</td>\n      <td>0</td>\n    </tr>\n    <tr>\n      <th>14</th>\n      <td>2</td>\n      <td>1</td>\n      <td>90.259848</td>\n      <td>0</td>\n    </tr>\n    <tr>\n      <th>15</th>\n      <td>0</td>\n      <td>1</td>\n      <td>44.994999</td>\n      <td>1</td>\n    </tr>\n    <tr>\n      <th>16</th>\n      <td>1</td>\n      <td>1</td>\n      <td>61.306346</td>\n      <td>0</td>\n    </tr>\n    <tr>\n      <th>17</th>\n      <td>1</td>\n      <td>1</td>\n      <td>90.234858</td>\n      <td>1</td>\n    </tr>\n    <tr>\n      <th>18</th>\n      <td>1</td>\n      <td>1</td>\n      <td>9.928035</td>\n      <td>0</td>\n    </tr>\n    <tr>\n      <th>19</th>\n      <td>1</td>\n      <td>0</td>\n      <td>96.980907</td>\n      <td>1</td>\n    </tr>\n  </tbody>\n</table>\n</div>"
     },
     "metadata": {},
     "execution_count": 5
    }
   ],
   "source": [
    "df['disease']=[0,1,0,1,1,1,0,0,1,0,1,1,1,0,0,1,0,1,0,1]\n",
    "df # toy dataset."
   ]
  },
  {
   "cell_type": "code",
   "execution_count": 6,
   "metadata": {},
   "outputs": [],
   "source": [
    "p_no_disease=(df.shape[0] - df['disease'].sum())/df.shape[0] # equivalent to P(C0)\n",
    "p_disease=df['disease'].sum()/df.shape[0] # equivalent to P(C1) refer to the equation above."
   ]
  },
  {
   "cell_type": "code",
   "execution_count": 7,
   "metadata": {},
   "outputs": [],
   "source": [
    "disease_df=df[df['disease']==1]\n",
    "no_disease_df=df[df['disease']==0]"
   ]
  },
  {
   "cell_type": "code",
   "execution_count": 8,
   "metadata": {},
   "outputs": [
    {
     "output_type": "execute_result",
     "data": {
      "text/plain": "    city  gender     income  disease\n1      1       1  58.201979        1\n3      1       1  75.861562        1\n4      1       0  10.590761        1\n5      2       1  47.360042        1\n8      0       1  21.655035        1\n10     0       0  32.414101        1\n11     2       0  14.967487        1\n12     1       1  22.232139        1\n15     0       1  44.994999        1\n17     1       1  90.234858        1\n19     1       0  96.980907        1",
      "text/html": "<div>\n<style scoped>\n    .dataframe tbody tr th:only-of-type {\n        vertical-align: middle;\n    }\n\n    .dataframe tbody tr th {\n        vertical-align: top;\n    }\n\n    .dataframe thead th {\n        text-align: right;\n    }\n</style>\n<table border=\"1\" class=\"dataframe\">\n  <thead>\n    <tr style=\"text-align: right;\">\n      <th></th>\n      <th>city</th>\n      <th>gender</th>\n      <th>income</th>\n      <th>disease</th>\n    </tr>\n  </thead>\n  <tbody>\n    <tr>\n      <th>1</th>\n      <td>1</td>\n      <td>1</td>\n      <td>58.201979</td>\n      <td>1</td>\n    </tr>\n    <tr>\n      <th>3</th>\n      <td>1</td>\n      <td>1</td>\n      <td>75.861562</td>\n      <td>1</td>\n    </tr>\n    <tr>\n      <th>4</th>\n      <td>1</td>\n      <td>0</td>\n      <td>10.590761</td>\n      <td>1</td>\n    </tr>\n    <tr>\n      <th>5</th>\n      <td>2</td>\n      <td>1</td>\n      <td>47.360042</td>\n      <td>1</td>\n    </tr>\n    <tr>\n      <th>8</th>\n      <td>0</td>\n      <td>1</td>\n      <td>21.655035</td>\n      <td>1</td>\n    </tr>\n    <tr>\n      <th>10</th>\n      <td>0</td>\n      <td>0</td>\n      <td>32.414101</td>\n      <td>1</td>\n    </tr>\n    <tr>\n      <th>11</th>\n      <td>2</td>\n      <td>0</td>\n      <td>14.967487</td>\n      <td>1</td>\n    </tr>\n    <tr>\n      <th>12</th>\n      <td>1</td>\n      <td>1</td>\n      <td>22.232139</td>\n      <td>1</td>\n    </tr>\n    <tr>\n      <th>15</th>\n      <td>0</td>\n      <td>1</td>\n      <td>44.994999</td>\n      <td>1</td>\n    </tr>\n    <tr>\n      <th>17</th>\n      <td>1</td>\n      <td>1</td>\n      <td>90.234858</td>\n      <td>1</td>\n    </tr>\n    <tr>\n      <th>19</th>\n      <td>1</td>\n      <td>0</td>\n      <td>96.980907</td>\n      <td>1</td>\n    </tr>\n  </tbody>\n</table>\n</div>"
     },
     "metadata": {},
     "execution_count": 8
    }
   ],
   "source": [
    "disease_df"
   ]
  },
  {
   "cell_type": "code",
   "execution_count": 9,
   "metadata": {},
   "outputs": [],
   "source": [
    "disease_dic={'city':[],'gender':[]}\n",
    "for city_number in range(3):\n",
    "  p=((disease_df['city']==city_number).sum())/disease_df.shape[0]\n",
    "  disease_dic['city'].append(p)\n",
    "\n",
    "for gender in range(2):\n",
    "  p=((disease_df['gender']==gender).sum())/disease_df.shape[0]   \n",
    "  disease_dic['gender'].append(p)\n",
    "mean_income_disease=disease_df['income'].mean()  \n",
    "std_income_disease=disease_df['income'].std()"
   ]
  },
  {
   "cell_type": "code",
   "execution_count": 10,
   "metadata": {},
   "outputs": [],
   "source": [
    "no_disease_dic={'city':[],'gender':[]}\n",
    "\n",
    "for city_number in range(3):\n",
    "  p=((no_disease_df['city']==city_number).sum())/no_disease_df.shape[0]\n",
    "  no_disease_dic['city'].append(p)\n",
    "\n",
    "for gender in range(2):\n",
    "  p=((no_disease_df['gender']==gender).sum())/no_disease_df.shape[0]   \n",
    "  no_disease_dic['gender'].append(p)\n",
    "mean_income_no_disease=no_disease_df['income'].mean()  \n",
    "std_income_no_disease=no_disease_df['income'].std()  "
   ]
  },
  {
   "cell_type": "code",
   "execution_count": 11,
   "metadata": {},
   "outputs": [],
   "source": [
    "city=1\n",
    "gender=0\n",
    "income=55.78"
   ]
  },
  {
   "cell_type": "code",
   "execution_count": 12,
   "metadata": {},
   "outputs": [],
   "source": [
    "import scipy.stats"
   ]
  },
  {
   "cell_type": "code",
   "execution_count": 13,
   "metadata": {},
   "outputs": [
    {
     "output_type": "execute_result",
     "data": {
      "text/plain": "0.001377582518539877"
     },
     "metadata": {},
     "execution_count": 13
    }
   ],
   "source": [
    "# we need to find pdf of income=25.78 for both disease and no_disease normal distributions.\n",
    "p_income_disease=scipy.stats.norm(mean_income_disease,std_income_disease).pdf(income)\n",
    "p_city_disease=disease_dic['city'][city]\n",
    "p_gender_disease=disease_dic['gender'][gender]\n",
    "\n",
    "# now we multiply these three probabilities with the p(disease) to get probability of disease for this sample\n",
    "p_disease_sample= p_income_disease*p_city_disease*p_gender_disease*p_disease\n",
    "p_disease_sample"
   ]
  },
  {
   "cell_type": "code",
   "execution_count": 14,
   "metadata": {},
   "outputs": [
    {
     "output_type": "execute_result",
     "data": {
      "text/plain": "0.0005858417103527453"
     },
     "metadata": {},
     "execution_count": 14
    }
   ],
   "source": [
    "p_income_no_disease=scipy.stats.norm(mean_income_no_disease,std_income_no_disease).pdf(income)\n",
    "p_city_no_disease=no_disease_dic['city'][city]\n",
    "p_gender_no_disease=no_disease_dic['gender'][gender]\n",
    "\n",
    "# now we multiply these three probabilities with the p(no_disease) to get probability of no_disease for this sample\n",
    "p_no_disease_sample= p_income_no_disease*p_city_no_disease*p_gender_no_disease*p_no_disease\n",
    "p_no_disease_sample"
   ]
  },
  {
   "cell_type": "code",
   "execution_count": 15,
   "metadata": {},
   "outputs": [
    {
     "output_type": "execute_result",
     "data": {
      "text/plain": "True"
     },
     "metadata": {},
     "execution_count": 15
    }
   ],
   "source": [
    "p_disease_sample>p_no_disease_sample"
   ]
  },
  {
   "cell_type": "code",
   "execution_count": null,
   "metadata": {},
   "outputs": [],
   "source": []
  }
 ],
 "metadata": {
  "language_info": {
   "codemirror_mode": {
    "name": "ipython",
    "version": 3
   },
   "file_extension": ".py",
   "mimetype": "text/x-python",
   "name": "python",
   "nbconvert_exporter": "python",
   "pygments_lexer": "ipython3",
   "version": "3.8.3-final"
  },
  "orig_nbformat": 2,
  "kernelspec": {
   "name": "python38332bitece4a5cf7ea64211ad26f94551775000",
   "display_name": "Python 3.8.3 32-bit"
  }
 },
 "nbformat": 4,
 "nbformat_minor": 2
}